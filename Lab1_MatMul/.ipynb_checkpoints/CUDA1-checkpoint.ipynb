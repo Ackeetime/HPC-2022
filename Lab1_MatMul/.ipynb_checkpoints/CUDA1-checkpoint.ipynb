{
 "cells": [
  {
   "cell_type": "code",
   "execution_count": null,
   "metadata": {
    "colab": {
     "base_uri": "https://localhost:8080/"
    },
    "id": "20k-eWF9MRQF",
    "outputId": "e4fb6934-e92e-4207-9b8b-864de2252d33"
   },
   "outputs": [
    {
     "name": "stdout",
     "output_type": "stream",
     "text": [
      "Looking in indexes: https://pypi.org/simple, https://us-python.pkg.dev/colab-wheels/public/simple/\n",
      "Collecting py-cpuinfo\n",
      "  Downloading py_cpuinfo-9.0.0-py3-none-any.whl (22 kB)\n",
      "Installing collected packages: py-cpuinfo\n",
      "Successfully installed py-cpuinfo-9.0.0\n"
     ]
    }
   ],
   "source": [
    "!pip install py-cpuinfo"
   ]
  },
  {
   "cell_type": "code",
   "execution_count": null,
   "metadata": {
    "colab": {
     "base_uri": "https://localhost:8080/"
    },
    "id": "zjZNArtDNJk1",
    "outputId": "a507064e-fa74-46e1-c17c-f8a349d11a8c"
   },
   "outputs": [
    {
     "name": "stdout",
     "output_type": "stream",
     "text": [
      "CPU: Intel(R) Xeon(R) CPU @ 2.30GHz\n",
      "GPU: <CUDA device 0 'b'Tesla T4''>\n"
     ]
    }
   ],
   "source": [
    "import math\n",
    "import numpy as np\n",
    "from numba import cuda, jit, float64\n",
    "import time\n",
    "import pandas as pd\n",
    "import cpuinfo\n",
    "\n",
    "print('CPU:', cpuinfo.get_cpu_info()['brand_raw'])\n",
    "print('GPU:', cuda.get_current_device())"
   ]
  },
  {
   "cell_type": "code",
   "execution_count": null,
   "metadata": {
    "id": "q15fuUoHNTTC"
   },
   "outputs": [],
   "source": [
    "N0 = 100\n",
    "A0 = np.random.randn(N0, N0)\n",
    "B0 = np.random.randn(N0, N0)\n",
    "C0 = np.zeros((N0, N0))"
   ]
  },
  {
   "cell_type": "code",
   "execution_count": null,
   "metadata": {
    "id": "S33V-LUeNUZL"
   },
   "outputs": [],
   "source": [
    "N1 = 1000\n",
    "A1 = np.random.randn(N1, N1)\n",
    "B1 = np.random.randn(N1, N1)\n",
    "C1 = np.zeros((N1, N1))"
   ]
  },
  {
   "cell_type": "code",
   "execution_count": null,
   "metadata": {
    "id": "A1RcKsKHNUp4"
   },
   "outputs": [],
   "source": [
    "N2 = 2000\n",
    "A2 = np.random.randn(N2, N2)\n",
    "B2 = np.random.randn(N2, N2)\n",
    "C2 = np.zeros((N2, N2))"
   ]
  },
  {
   "cell_type": "code",
   "execution_count": null,
   "metadata": {
    "colab": {
     "base_uri": "https://localhost:8080/"
    },
    "id": "h901Oi9VNVRc",
    "outputId": "5b0ef7c2-f2a8-449c-b6c3-d28e8b117466"
   },
   "outputs": [
    {
     "name": "stdout",
     "output_type": "stream",
     "text": [
      " -----------------------------------\n",
      "| Matmul on CPU (np.dot): 0.008 sec.|\n",
      " -----------------------------------\n",
      " -----------------------------------\n",
      "| Matmul on CPU (np.dot): 0.157 sec.|\n",
      " -----------------------------------\n",
      " -----------------------------------\n",
      "| Matmul on CPU (np.dot): 1.387 sec.|\n",
      " -----------------------------------\n"
     ]
    }
   ],
   "source": [
    "def CPU_matmul_dot(A, B):\n",
    "  C = np.dot(A,B)\n",
    "\n",
    "s1 = time.time()\n",
    "CPU_matmul_dot(A0, B0)\n",
    "host_0 = C0\n",
    "end0 = time.time() - s1\n",
    "print(' -----------------------------------')\n",
    "print('| Matmul on CPU (np.dot): {:.3f}'.format(end0), 'sec.|')\n",
    "print(' -----------------------------------')\n",
    "\n",
    "s2 = time.time()\n",
    "CPU_matmul_dot(A1, B1)\n",
    "end1 = time.time() - s2\n",
    "print(' -----------------------------------')\n",
    "print('| Matmul on CPU (np.dot): {:.3f}'.format(end1), 'sec.|')\n",
    "print(' -----------------------------------')\n",
    "\n",
    "s3 = time.time()\n",
    "CPU_matmul_dot(A2, B2)\n",
    "end2 = time.time() - s3\n",
    "print(' -----------------------------------')\n",
    "print('| Matmul on CPU (np.dot): {:.3f}'.format(end2), 'sec.|')\n",
    "print(' -----------------------------------')"
   ]
  },
  {
   "cell_type": "code",
   "execution_count": 8,
   "metadata": {
    "colab": {
     "base_uri": "https://localhost:8080/",
     "height": 461
    },
    "id": "ZMxi-8qKeBpi",
    "outputId": "da96cc10-6b56-4b2d-9eac-1c13a454c6a0"
   },
   "outputs": [
    {
     "name": "stdout",
     "output_type": "stream",
     "text": [
      " --------------------------\n",
      "| Matmul on CPU: 0.518 sec.|\n",
      " --------------------------\n",
      " --------------------------\n",
      "| Matmul on CPU: 436.071 sec.|\n",
      " --------------------------\n"
     ]
    },
    {
     "ename": "KeyboardInterrupt",
     "evalue": "ignored",
     "output_type": "error",
     "traceback": [
      "\u001b[0;31m---------------------------------------------------------------------------\u001b[0m",
      "\u001b[0;31mKeyboardInterrupt\u001b[0m                         Traceback (most recent call last)",
      "\u001b[0;32m<ipython-input-8-8fbdd6ade154>\u001b[0m in \u001b[0;36m<module>\u001b[0;34m\u001b[0m\n\u001b[1;32m     24\u001b[0m \u001b[0;34m\u001b[0m\u001b[0m\n\u001b[1;32m     25\u001b[0m \u001b[0ms6\u001b[0m \u001b[0;34m=\u001b[0m \u001b[0mtime\u001b[0m\u001b[0;34m.\u001b[0m\u001b[0mtime\u001b[0m\u001b[0;34m(\u001b[0m\u001b[0;34m)\u001b[0m\u001b[0;34m\u001b[0m\u001b[0;34m\u001b[0m\u001b[0m\n\u001b[0;32m---> 26\u001b[0;31m \u001b[0mCPU_matmul\u001b[0m\u001b[0;34m(\u001b[0m\u001b[0mA2\u001b[0m\u001b[0;34m,\u001b[0m \u001b[0mB2\u001b[0m\u001b[0;34m,\u001b[0m \u001b[0mC2\u001b[0m\u001b[0;34m)\u001b[0m\u001b[0;34m\u001b[0m\u001b[0;34m\u001b[0m\u001b[0m\n\u001b[0m\u001b[1;32m     27\u001b[0m \u001b[0mend5\u001b[0m \u001b[0;34m=\u001b[0m \u001b[0mtime\u001b[0m\u001b[0;34m.\u001b[0m\u001b[0mtime\u001b[0m\u001b[0;34m(\u001b[0m\u001b[0;34m)\u001b[0m \u001b[0;34m-\u001b[0m \u001b[0ms6\u001b[0m\u001b[0;34m\u001b[0m\u001b[0;34m\u001b[0m\u001b[0m\n\u001b[1;32m     28\u001b[0m \u001b[0mprint\u001b[0m\u001b[0;34m(\u001b[0m\u001b[0;34m' ---------------------------'\u001b[0m\u001b[0;34m)\u001b[0m\u001b[0;34m\u001b[0m\u001b[0;34m\u001b[0m\u001b[0m\n",
      "\u001b[0;32m<ipython-input-8-8fbdd6ade154>\u001b[0m in \u001b[0;36mCPU_matmul\u001b[0;34m(A, B, C)\u001b[0m\n\u001b[1;32m      4\u001b[0m       \u001b[0msum\u001b[0m \u001b[0;34m=\u001b[0m \u001b[0;36m0\u001b[0m\u001b[0;34m\u001b[0m\u001b[0;34m\u001b[0m\u001b[0m\n\u001b[1;32m      5\u001b[0m       \u001b[0;32mfor\u001b[0m \u001b[0mk\u001b[0m \u001b[0;32min\u001b[0m \u001b[0mrange\u001b[0m\u001b[0;34m(\u001b[0m\u001b[0mA\u001b[0m\u001b[0;34m.\u001b[0m\u001b[0mshape\u001b[0m\u001b[0;34m[\u001b[0m\u001b[0;36m1\u001b[0m\u001b[0;34m]\u001b[0m\u001b[0;34m)\u001b[0m\u001b[0;34m:\u001b[0m\u001b[0;34m\u001b[0m\u001b[0;34m\u001b[0m\u001b[0m\n\u001b[0;32m----> 6\u001b[0;31m         \u001b[0msum\u001b[0m \u001b[0;34m+=\u001b[0m \u001b[0mA\u001b[0m\u001b[0;34m[\u001b[0m\u001b[0mi\u001b[0m\u001b[0;34m,\u001b[0m \u001b[0mk\u001b[0m\u001b[0;34m]\u001b[0m \u001b[0;34m*\u001b[0m \u001b[0mB\u001b[0m\u001b[0;34m[\u001b[0m\u001b[0mk\u001b[0m\u001b[0;34m,\u001b[0m \u001b[0mj\u001b[0m\u001b[0;34m]\u001b[0m\u001b[0;34m\u001b[0m\u001b[0;34m\u001b[0m\u001b[0m\n\u001b[0m\u001b[1;32m      7\u001b[0m       \u001b[0mC\u001b[0m\u001b[0;34m[\u001b[0m\u001b[0mi\u001b[0m\u001b[0;34m,\u001b[0m \u001b[0mj\u001b[0m\u001b[0;34m]\u001b[0m \u001b[0;34m=\u001b[0m \u001b[0msum\u001b[0m\u001b[0;34m\u001b[0m\u001b[0;34m\u001b[0m\u001b[0m\n\u001b[1;32m      8\u001b[0m \u001b[0;34m\u001b[0m\u001b[0m\n",
      "\u001b[0;31mKeyboardInterrupt\u001b[0m: "
     ]
    }
   ],
   "source": [
    "def CPU_matmul(A, B, C):\n",
    "  for i in range(C.shape[0]):\n",
    "    for j in range(C.shape[1]):\n",
    "      sum = 0\n",
    "      for k in range(A.shape[1]):\n",
    "        sum += A[i, k] * B[k, j]\n",
    "      C[i, j] = sum\n",
    "\n",
    "host_1 = C0\n",
    "\n",
    "s4 = time.time()\n",
    "CPU_matmul(A0, B0, C0)\n",
    "end3 = time.time() - s4\n",
    "print(' --------------------------')\n",
    "print('| Matmul on CPU: {:.3f}'.format(end3), 'sec.|')\n",
    "print(' --------------------------')\n",
    "\n",
    "s5 = time.time()\n",
    "CPU_matmul(A1, B1, C1)\n",
    "end4 = time.time() - s5\n",
    "print(' --------------------------')\n",
    "print('| Matmul on CPU: {:.3f}'.format(end4), 'sec.|')\n",
    "print(' --------------------------')\n",
    "\n",
    "s6 = time.time()\n",
    "CPU_matmul(A2, B2, C2)\n",
    "end5 = time.time() - s6\n",
    "print(' ---------------------------')\n",
    "print('| Matmul on CPU: {:.3f}'.format(end5), 'sec.|')\n",
    "print(' ---------------------------')"
   ]
  },
  {
   "cell_type": "markdown",
   "metadata": {},
   "source": [
    "Выполнять задачу выше до конца оказалось слишком долго, решил прервать выполнение"
   ]
  },
  {
   "cell_type": "code",
   "execution_count": 9,
   "metadata": {
    "id": "x_15F1XtIM_5"
   },
   "outputs": [],
   "source": [
    "def cpu_matmul(A, B, C):\n",
    "  for i in range(C.shape[0]):\n",
    "    for j in range(C.shape[1]):\n",
    "      sum = 0\n",
    "      for k in range(A.shape[1]):\n",
    "        sum += A[i, k] * B[k, j]\n",
    "      C[i, j] = sum"
   ]
  },
  {
   "cell_type": "code",
   "execution_count": 10,
   "metadata": {
    "colab": {
     "base_uri": "https://localhost:8080/"
    },
    "id": "WYtGkKJjNVXA",
    "outputId": "ee5c94e9-c580-44b1-f2ca-5de2f3ab5a99"
   },
   "outputs": [
    {
     "name": "stderr",
     "output_type": "stream",
     "text": [
      "/usr/local/lib/python3.8/dist-packages/numba/cuda/dispatcher.py:488: NumbaPerformanceWarning: Grid size 16 will likely result in GPU under-utilization due to low occupancy.\n",
      "  warn(NumbaPerformanceWarning(msg))\n"
     ]
    },
    {
     "name": "stdout",
     "output_type": "stream",
     "text": [
      " --------------------------\n",
      "| Matmul on GPU: 0.002 sec.|\n",
      " --------------------------\n",
      " --------------------------\n",
      "| Matmul on GPU: 0.200 sec.|\n",
      " --------------------------\n",
      " --------------------------\n",
      "| Matmul on GPU: 0.753 sec.|\n",
      " --------------------------\n"
     ]
    }
   ],
   "source": [
    "@cuda.jit\n",
    "def GPU_matmul_cuda_jit(A, B, C):\n",
    "  i, j = cuda.grid(2)\n",
    "  if i < C.shape[0] and j < C.shape[1]:\n",
    "    sum = 0\n",
    "    for k in range(A.shape[1]):\n",
    "      sum += A[i, k] * B[k, j]\n",
    "      C[i, j] = sum\n",
    "\n",
    "\n",
    "def host_naive(A, B, C):\n",
    "  d_A = cuda.to_device(A)\n",
    "  d_B = cuda.to_device(B)\n",
    "  d_C = cuda.device_array(C.shape, np.float64)\n",
    "\n",
    "  threadsperblock = (32, 32)\n",
    "  blockspergrid_x = math.ceil(A.shape[0]/threadsperblock[0])\n",
    "  blockspergrid_y = math.ceil(B.shape[1]/threadsperblock[1])\n",
    "  blockspergrid = (blockspergrid_x, blockspergrid_y)\n",
    "\n",
    "  GPU_matmul_cuda_jit[blockspergrid, threadsperblock](d_A, d_B, d_C)\n",
    "  return d_C.copy_to_host()\n",
    "\n",
    "\n",
    "cuda.select_device(0) #выбор устройства GPU\n",
    "host_naive(A0, B0, C0)\n",
    "s10 = time.time()\n",
    "host_naive(A0, B0, C0)\n",
    "host_3 = C0\n",
    "end9 = time.time() - s10\n",
    "print(' --------------------------')\n",
    "print('| Matmul on GPU: {:.3f}'.format(end9), 'sec.|')\n",
    "print(' --------------------------')\n",
    "\n",
    "cuda.select_device(0)\n",
    "s11 = time.time()\n",
    "host_naive(A1, B1, C1)\n",
    "end10 = time.time() - s11\n",
    "print(' --------------------------')\n",
    "print('| Matmul on GPU: {:.3f}'.format(end10), 'sec.|')\n",
    "print(' --------------------------')\n",
    "\n",
    "cuda.select_device(0)\n",
    "s12 = time.time()\n",
    "host_naive(A2, B2, C2)\n",
    "end11 = time.time() - s12\n",
    "print(' --------------------------')\n",
    "print('| Matmul on GPU: {:.3f}'.format(end11), 'sec.|')\n",
    "print(' --------------------------')"
   ]
  },
  {
   "cell_type": "code",
   "execution_count": null,
   "metadata": {
    "id": "69t2F1cVNVbi"
   },
   "outputs": [],
   "source": []
  },
  {
   "cell_type": "code",
   "execution_count": null,
   "metadata": {
    "id": "pNO5nC38NVgD"
   },
   "outputs": [],
   "source": []
  },
  {
   "cell_type": "code",
   "execution_count": null,
   "metadata": {
    "id": "AQ9Zh-FYNVjf"
   },
   "outputs": [],
   "source": []
  }
 ],
 "metadata": {
  "accelerator": "GPU",
  "colab": {
   "provenance": []
  },
  "gpuClass": "standard",
  "kernelspec": {
   "display_name": "Python 3 (ipykernel)",
   "language": "python",
   "name": "python3"
  },
  "language_info": {
   "codemirror_mode": {
    "name": "ipython",
    "version": 3
   },
   "file_extension": ".py",
   "mimetype": "text/x-python",
   "name": "python",
   "nbconvert_exporter": "python",
   "pygments_lexer": "ipython3",
   "version": "3.8.10"
  }
 },
 "nbformat": 4,
 "nbformat_minor": 1
}
